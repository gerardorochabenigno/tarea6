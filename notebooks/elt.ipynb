{
 "cells": [
  {
   "cell_type": "code",
   "execution_count": 1,
   "metadata": {},
   "outputs": [],
   "source": [
    "import boto3\n",
    "import awswrangler as wr\n"
   ]
  },
  {
   "cell_type": "code",
   "execution_count": 2,
   "metadata": {},
   "outputs": [],
   "source": [
    "session = boto3.Session(profile_name='datascientist')\n",
    "s3 = session.client('s3')"
   ]
  },
  {
   "cell_type": "markdown",
   "metadata": {},
   "source": [
    "#### Inflación"
   ]
  },
  {
   "cell_type": "code",
   "execution_count": 6,
   "metadata": {},
   "outputs": [
    {
     "data": {
      "application/vnd.microsoft.datawrangler.viewer.v0+json": {
       "columns": [
        {
         "name": "index",
         "rawType": "int64",
         "type": "integer"
        }
       ],
       "conversionMethod": "pd.DataFrame",
       "ref": "50f283ea-7087-47a3-bd5b-b9fd08ef2a19",
       "rows": [],
       "shape": {
        "columns": 0,
        "rows": 0
       }
      },
      "text/html": [
       "<div>\n",
       "<style scoped>\n",
       "    .dataframe tbody tr th:only-of-type {\n",
       "        vertical-align: middle;\n",
       "    }\n",
       "\n",
       "    .dataframe tbody tr th {\n",
       "        vertical-align: top;\n",
       "    }\n",
       "\n",
       "    .dataframe thead th {\n",
       "        text-align: right;\n",
       "    }\n",
       "</style>\n",
       "<table border=\"1\" class=\"dataframe\">\n",
       "  <thead>\n",
       "    <tr style=\"text-align: right;\">\n",
       "      <th></th>\n",
       "    </tr>\n",
       "  </thead>\n",
       "  <tbody>\n",
       "  </tbody>\n",
       "</table>\n",
       "</div>"
      ],
      "text/plain": [
       "Empty DataFrame\n",
       "Columns: []\n",
       "Index: []"
      ]
     },
     "execution_count": 6,
     "metadata": {},
     "output_type": "execute_result"
    }
   ],
   "source": [
    "query = \"\"\"\n",
    "DROP TABLE IF EXISTS econ.inflacion;\n",
    "\"\"\"\n",
    "\n",
    "wr.athena.read_sql_query(\n",
    "    query, \n",
    "    database=\"econ\", \n",
    "    ctas_approach=False, \n",
    "    boto3_session=session\n",
    ")\n",
    "\n",
    "query = \"\"\"\n",
    "\n",
    "CREATE EXTERNAL TABLE econ.inflacion (\n",
    "    fecha DATE,\n",
    "    inflacion DOUBLE\n",
    ") COMMENT 'Inflacion mensual'\n",
    "ROW FORMAT SERDE 'org.apache.hadoop.hive.serde2.lazy.LazySimpleSerDe'\n",
    "WITH SERDEPROPERTIES ('field.delim' = ',')\n",
    "STORED AS INPUTFORMAT 'org.apache.hadoop.mapred.TextInputFormat' \n",
    "OUTPUTFORMAT 'org.apache.hadoop.hive.ql.io.HiveIgnoreKeyTextOutputFormat'\n",
    "LOCATION 's3://itam-analytics-grb/econ/raw/inflacion/'\n",
    "TBLPROPERTIES (\"skip.header.line.count\"=\"1\");\n",
    "\n",
    "\"\"\"\n",
    "\n",
    "wr.athena.read_sql_query(\n",
    "    query, \n",
    "    database=\"econ\", \n",
    "    ctas_approach=False, \n",
    "    boto3_session=session\n",
    ")"
   ]
  },
  {
   "cell_type": "markdown",
   "metadata": {},
   "source": [
    "#### Tasa de interés"
   ]
  },
  {
   "cell_type": "code",
   "execution_count": null,
   "metadata": {},
   "outputs": [
    {
     "data": {
      "application/vnd.microsoft.datawrangler.viewer.v0+json": {
       "columns": [
        {
         "name": "index",
         "rawType": "int64",
         "type": "integer"
        }
       ],
       "conversionMethod": "pd.DataFrame",
       "ref": "7ade867e-5846-4821-af10-e8d68ca243e7",
       "rows": [],
       "shape": {
        "columns": 0,
        "rows": 0
       }
      },
      "text/html": [
       "<div>\n",
       "<style scoped>\n",
       "    .dataframe tbody tr th:only-of-type {\n",
       "        vertical-align: middle;\n",
       "    }\n",
       "\n",
       "    .dataframe tbody tr th {\n",
       "        vertical-align: top;\n",
       "    }\n",
       "\n",
       "    .dataframe thead th {\n",
       "        text-align: right;\n",
       "    }\n",
       "</style>\n",
       "<table border=\"1\" class=\"dataframe\">\n",
       "  <thead>\n",
       "    <tr style=\"text-align: right;\">\n",
       "      <th></th>\n",
       "    </tr>\n",
       "  </thead>\n",
       "  <tbody>\n",
       "  </tbody>\n",
       "</table>\n",
       "</div>"
      ],
      "text/plain": [
       "Empty DataFrame\n",
       "Columns: []\n",
       "Index: []"
      ]
     },
     "execution_count": 7,
     "metadata": {},
     "output_type": "execute_result"
    }
   ],
   "source": [
    "query = \"\"\"\n",
    "DROP TABLE IF EXISTS econ.tasa_de_interes;\n",
    "\"\"\"\n",
    "\n",
    "wr.athena.read_sql_query(\n",
    "    query, \n",
    "    database=\"econ\", \n",
    "    ctas_approach=False, \n",
    "    boto3_session=session\n",
    ")\n",
    "\n",
    "query = \"\"\"\n",
    "\n",
    "CREATE EXTERNAL TABLE econ.tasa_de_interes (\n",
    "    fecha DATE,\n",
    "    tasa_de_interes DOUBLE\n",
    ") COMMENT 'Tasa e interés diaria'\n",
    "ROW FORMAT SERDE 'org.apache.hadoop.hive.serde2.lazy.LazySimpleSerDe'\n",
    "WITH SERDEPROPERTIES ('field.delim' = ',')\n",
    "STORED AS INPUTFORMAT 'org.apache.hadoop.mapred.TextInputFormat' \n",
    "OUTPUTFORMAT 'org.apache.hadoop.hive.ql.io.HiveIgnoreKeyTextOutputFormat'\n",
    "LOCATION 's3://itam-analytics-grb/econ/raw/tasa_de_interes/'\n",
    "TBLPROPERTIES (\"skip.header.line.count\"=\"1\");\n",
    "\n",
    "\"\"\"\n",
    "\n",
    "wr.athena.read_sql_query(\n",
    "    query, \n",
    "    database=\"econ\", \n",
    "    ctas_approach=False, \n",
    "    boto3_session=session\n",
    ")"
   ]
  },
  {
   "cell_type": "markdown",
   "metadata": {},
   "source": [
    "#### Tipo de cambio"
   ]
  },
  {
   "cell_type": "code",
   "execution_count": 8,
   "metadata": {},
   "outputs": [
    {
     "data": {
      "application/vnd.microsoft.datawrangler.viewer.v0+json": {
       "columns": [
        {
         "name": "index",
         "rawType": "int64",
         "type": "integer"
        }
       ],
       "conversionMethod": "pd.DataFrame",
       "ref": "f13cd6e3-aa44-47f6-9dab-99c4ba62ca72",
       "rows": [],
       "shape": {
        "columns": 0,
        "rows": 0
       }
      },
      "text/html": [
       "<div>\n",
       "<style scoped>\n",
       "    .dataframe tbody tr th:only-of-type {\n",
       "        vertical-align: middle;\n",
       "    }\n",
       "\n",
       "    .dataframe tbody tr th {\n",
       "        vertical-align: top;\n",
       "    }\n",
       "\n",
       "    .dataframe thead th {\n",
       "        text-align: right;\n",
       "    }\n",
       "</style>\n",
       "<table border=\"1\" class=\"dataframe\">\n",
       "  <thead>\n",
       "    <tr style=\"text-align: right;\">\n",
       "      <th></th>\n",
       "    </tr>\n",
       "  </thead>\n",
       "  <tbody>\n",
       "  </tbody>\n",
       "</table>\n",
       "</div>"
      ],
      "text/plain": [
       "Empty DataFrame\n",
       "Columns: []\n",
       "Index: []"
      ]
     },
     "execution_count": 8,
     "metadata": {},
     "output_type": "execute_result"
    }
   ],
   "source": [
    "query = \"\"\"\n",
    "DROP TABLE IF EXISTS econ.tipo_de_cambio;\n",
    "\"\"\"\n",
    "\n",
    "wr.athena.read_sql_query(\n",
    "    query, \n",
    "    database=\"econ\", \n",
    "    ctas_approach=False, \n",
    "    boto3_session=session\n",
    ")\n",
    "\n",
    "query = \"\"\"\n",
    "\n",
    "CREATE EXTERNAL TABLE econ.tipo_de_cambio (\n",
    "    fecha DATE,\n",
    "    tipo_de_cambio DOUBLE\n",
    ") COMMENT 'Tipo de cambio diario diaria'\n",
    "ROW FORMAT SERDE 'org.apache.hadoop.hive.serde2.lazy.LazySimpleSerDe'\n",
    "WITH SERDEPROPERTIES ('field.delim' = ',')\n",
    "STORED AS INPUTFORMAT 'org.apache.hadoop.mapred.TextInputFormat' \n",
    "OUTPUTFORMAT 'org.apache.hadoop.hive.ql.io.HiveIgnoreKeyTextOutputFormat'\n",
    "LOCATION 's3://itam-analytics-grb/econ/raw/tipo_de_cambio/'\n",
    "TBLPROPERTIES (\"skip.header.line.count\"=\"1\");\n",
    "\n",
    "\"\"\"\n",
    "\n",
    "wr.athena.read_sql_query(\n",
    "    query, \n",
    "    database=\"econ\", \n",
    "    ctas_approach=False, \n",
    "    boto3_session=session\n",
    ")"
   ]
  },
  {
   "cell_type": "markdown",
   "metadata": {},
   "source": [
    "#### Creamos tabla mensual"
   ]
  },
  {
   "cell_type": "code",
   "execution_count": null,
   "metadata": {},
   "outputs": [
    {
     "data": {
      "application/vnd.microsoft.datawrangler.viewer.v0+json": {
       "columns": [
        {
         "name": "index",
         "rawType": "int64",
         "type": "integer"
        },
        {
         "name": "fecha",
         "rawType": "object",
         "type": "unknown"
        },
        {
         "name": "tipo_de_cambio_mensual",
         "rawType": "float64",
         "type": "float"
        },
        {
         "name": "tasa_de_interes_mensual",
         "rawType": "float64",
         "type": "float"
        },
        {
         "name": "inflacion_mensual",
         "rawType": "float64",
         "type": "float"
        }
       ],
       "conversionMethod": "pd.DataFrame",
       "ref": "860b1b07-44e2-44ae-b83e-68f52b8f241d",
       "rows": [
        [
         "0",
         "1991-11-01",
         "3.068376923076923",
         null,
         "19.720736584335818"
        ],
        [
         "1",
         "1991-12-01",
         "3.0709210526315793",
         null,
         "18.794623153210765"
        ],
        [
         "2",
         "1992-01-01",
         "3.0677227272727268",
         null,
         "17.94738503502673"
        ],
        [
         "3",
         "1992-02-01",
         "3.062905263157895",
         null,
         "17.29715082646168"
        ],
        [
         "4",
         "1992-03-01",
         "3.066768181818182",
         null,
         "16.824852154543613"
        ],
        [
         "5",
         "1992-04-01",
         "3.0694050000000006",
         null,
         "16.64436723028775"
        ],
        [
         "6",
         "1992-05-01",
         "3.1018368421052633",
         null,
         "16.27677579178439"
        ],
        [
         "7",
         "1992-06-01",
         "3.1191636363636372",
         null,
         "15.848177099775508"
        ],
        [
         "8",
         "1992-07-01",
         "3.115569565217391",
         null,
         "15.558461104601284"
        ],
        [
         "9",
         "1992-08-01",
         "3.088104761904763",
         null,
         "15.464790638730674"
        ],
        [
         "10",
         "1992-09-01",
         "3.0892952380952385",
         null,
         "15.320389069356866"
        ],
        [
         "11",
         "1992-10-01",
         "3.124452380952381",
         null,
         "14.815393341281167"
        ],
        [
         "12",
         "1992-11-01",
         "3.1183157894736837",
         null,
         "12.964397578697074"
        ],
        [
         "13",
         "1992-12-01",
         "3.118880952380952",
         null,
         "11.938089099433348"
        ],
        [
         "14",
         "1993-01-01",
         "3.1086899999999997",
         null,
         "11.318983772036152"
        ],
        [
         "15",
         "1993-02-01",
         "3.0978421052631577",
         null,
         "10.914343119219394"
        ],
        [
         "16",
         "1993-03-01",
         "3.107969565217391",
         null,
         "10.436819630297144"
        ],
        [
         "17",
         "1993-04-01",
         "3.0975750000000004",
         null,
         "10.092262038195932"
        ],
        [
         "18",
         "1993-05-01",
         "3.1233449999999996",
         null,
         "9.996324403760948"
        ],
        [
         "19",
         "1993-06-01",
         "3.12110909090909",
         null,
         "9.869637607734184"
        ],
        [
         "20",
         "1993-07-01",
         "3.1236500000000005",
         null,
         "9.704931505597902"
        ],
        [
         "21",
         "1993-08-01",
         "3.1121136363636364",
         null,
         "9.618670915834436"
        ],
        [
         "22",
         "1993-09-01",
         "3.1131857142857147",
         null,
         "9.478210741437463"
        ],
        [
         "23",
         "1993-10-01",
         "3.1152200000000003",
         null,
         "9.140072199515911"
        ],
        [
         "24",
         "1993-11-01",
         "3.1530699999999996",
         null,
         "8.718169890366244"
        ],
        [
         "25",
         "1993-12-01",
         "3.107963636363636",
         null,
         "8.009189366282786"
        ],
        [
         "26",
         "1994-01-01",
         "3.107204761904762",
         null,
         "7.498119796691438"
        ],
        [
         "27",
         "1994-02-01",
         "3.1211249999999997",
         null,
         "7.175374493296638"
        ],
        [
         "28",
         "1994-03-01",
         "3.2993550000000007",
         null,
         "7.102278383360461"
        ],
        [
         "29",
         "1994-04-01",
         "3.34559",
         null,
         "7.009726885613521"
        ],
        [
         "30",
         "1994-05-01",
         "3.3166761904761906",
         null,
         "6.915600072330408"
        ],
        [
         "31",
         "1994-06-01",
         "3.366704545454546",
         null,
         "6.851276767457315"
        ],
        [
         "32",
         "1994-07-01",
         "3.4019238095238093",
         null,
         "6.811863356193837"
        ],
        [
         "33",
         "1994-08-01",
         "3.3807913043478255",
         null,
         "6.738407432211768"
        ],
        [
         "34",
         "1994-09-01",
         "3.400957142857143",
         null,
         "6.707227236359659"
        ],
        [
         "35",
         "1994-10-01",
         "3.4195238095238105",
         null,
         "6.8304857744638126"
        ],
        [
         "36",
         "1994-11-01",
         "3.442835",
         null,
         "6.929961213547342"
        ],
        [
         "37",
         "1994-12-01",
         "4.083595",
         null,
         "7.051543174537689"
        ],
        [
         "38",
         "1995-01-01",
         "5.625340909090909",
         null,
         "10.226363090597925"
        ],
        [
         "39",
         "1995-02-01",
         "5.6695",
         null,
         "14.310121633498609"
        ],
        [
         "40",
         "1995-03-01",
         "6.77215909090909",
         "89.4825",
         "20.42958729550579"
        ],
        [
         "41",
         "1995-04-01",
         "6.206383333333333",
         "85.22037499999999",
         "29.39213602865611"
        ],
        [
         "42",
         "1995-05-01",
         "5.986071428571429",
         "60.44625",
         "34.15202784885161"
        ],
        [
         "43",
         "1995-06-01",
         "6.226881818181817",
         "49.5",
         "37.72053839449987"
        ],
        [
         "44",
         "1995-07-01",
         "6.124990476190476",
         "43.0",
         "39.907632618970744"
        ],
        [
         "45",
         "1995-08-01",
         "6.205521739130435",
         "37.59854",
         "41.56845214814895"
        ],
        [
         "46",
         "1995-09-01",
         "6.313404999999999",
         "35.480125",
         "43.47642673465082"
        ],
        [
         "47",
         "1995-10-01",
         "6.749827272727273",
         "42.6075",
         "45.663873005140566"
        ],
        [
         "48",
         "1995-11-01",
         "7.705584999999999",
         "57.43424",
         "48.462028945374456"
        ],
        [
         "49",
         "1995-12-01",
         "7.680731578947368",
         "51.356275",
         "51.96610425229318"
        ]
       ],
       "shape": {
        "columns": 4,
        "rows": 401
       }
      },
      "text/html": [
       "<div>\n",
       "<style scoped>\n",
       "    .dataframe tbody tr th:only-of-type {\n",
       "        vertical-align: middle;\n",
       "    }\n",
       "\n",
       "    .dataframe tbody tr th {\n",
       "        vertical-align: top;\n",
       "    }\n",
       "\n",
       "    .dataframe thead th {\n",
       "        text-align: right;\n",
       "    }\n",
       "</style>\n",
       "<table border=\"1\" class=\"dataframe\">\n",
       "  <thead>\n",
       "    <tr style=\"text-align: right;\">\n",
       "      <th></th>\n",
       "      <th>fecha</th>\n",
       "      <th>tipo_de_cambio_mensual</th>\n",
       "      <th>tasa_de_interes_mensual</th>\n",
       "      <th>inflacion_mensual</th>\n",
       "    </tr>\n",
       "  </thead>\n",
       "  <tbody>\n",
       "    <tr>\n",
       "      <th>0</th>\n",
       "      <td>1991-11-01</td>\n",
       "      <td>3.068377</td>\n",
       "      <td>NaN</td>\n",
       "      <td>19.720737</td>\n",
       "    </tr>\n",
       "    <tr>\n",
       "      <th>1</th>\n",
       "      <td>1991-12-01</td>\n",
       "      <td>3.070921</td>\n",
       "      <td>NaN</td>\n",
       "      <td>18.794623</td>\n",
       "    </tr>\n",
       "    <tr>\n",
       "      <th>2</th>\n",
       "      <td>1992-01-01</td>\n",
       "      <td>3.067723</td>\n",
       "      <td>NaN</td>\n",
       "      <td>17.947385</td>\n",
       "    </tr>\n",
       "    <tr>\n",
       "      <th>3</th>\n",
       "      <td>1992-02-01</td>\n",
       "      <td>3.062905</td>\n",
       "      <td>NaN</td>\n",
       "      <td>17.297151</td>\n",
       "    </tr>\n",
       "    <tr>\n",
       "      <th>4</th>\n",
       "      <td>1992-03-01</td>\n",
       "      <td>3.066768</td>\n",
       "      <td>NaN</td>\n",
       "      <td>16.824852</td>\n",
       "    </tr>\n",
       "    <tr>\n",
       "      <th>...</th>\n",
       "      <td>...</td>\n",
       "      <td>...</td>\n",
       "      <td>...</td>\n",
       "      <td>...</td>\n",
       "    </tr>\n",
       "    <tr>\n",
       "      <th>396</th>\n",
       "      <td>2024-11-01</td>\n",
       "      <td>20.345490</td>\n",
       "      <td>10.605735</td>\n",
       "      <td>4.548671</td>\n",
       "    </tr>\n",
       "    <tr>\n",
       "      <th>397</th>\n",
       "      <td>2024-12-01</td>\n",
       "      <td>20.266055</td>\n",
       "      <td>10.380720</td>\n",
       "      <td>4.212339</td>\n",
       "    </tr>\n",
       "    <tr>\n",
       "      <th>398</th>\n",
       "      <td>2025-01-01</td>\n",
       "      <td>20.549018</td>\n",
       "      <td>10.282523</td>\n",
       "      <td>3.585040</td>\n",
       "    </tr>\n",
       "    <tr>\n",
       "      <th>399</th>\n",
       "      <td>2025-02-01</td>\n",
       "      <td>20.457137</td>\n",
       "      <td>9.878884</td>\n",
       "      <td>3.773910</td>\n",
       "    </tr>\n",
       "    <tr>\n",
       "      <th>400</th>\n",
       "      <td>2025-03-01</td>\n",
       "      <td>20.300300</td>\n",
       "      <td>9.759273</td>\n",
       "      <td>NaN</td>\n",
       "    </tr>\n",
       "  </tbody>\n",
       "</table>\n",
       "<p>401 rows × 4 columns</p>\n",
       "</div>"
      ],
      "text/plain": [
       "          fecha  tipo_de_cambio_mensual  tasa_de_interes_mensual  \\\n",
       "0    1991-11-01                3.068377                      NaN   \n",
       "1    1991-12-01                3.070921                      NaN   \n",
       "2    1992-01-01                3.067723                      NaN   \n",
       "3    1992-02-01                3.062905                      NaN   \n",
       "4    1992-03-01                3.066768                      NaN   \n",
       "..          ...                     ...                      ...   \n",
       "396  2024-11-01               20.345490                10.605735   \n",
       "397  2024-12-01               20.266055                10.380720   \n",
       "398  2025-01-01               20.549018                10.282523   \n",
       "399  2025-02-01               20.457137                 9.878884   \n",
       "400  2025-03-01               20.300300                 9.759273   \n",
       "\n",
       "     inflacion_mensual  \n",
       "0            19.720737  \n",
       "1            18.794623  \n",
       "2            17.947385  \n",
       "3            17.297151  \n",
       "4            16.824852  \n",
       "..                 ...  \n",
       "396           4.548671  \n",
       "397           4.212339  \n",
       "398           3.585040  \n",
       "399           3.773910  \n",
       "400                NaN  \n",
       "\n",
       "[401 rows x 4 columns]"
      ]
     },
     "execution_count": 16,
     "metadata": {},
     "output_type": "execute_result"
    }
   ],
   "source": [
    "\n",
    "query = \"\"\"\n",
    "WITH \n",
    "    tipo_de_cambio_mensual AS (\n",
    "        SELECT \n",
    "            DATE_TRUNC('month', fecha) AS fecha,\n",
    "            AVG(tipo_de_cambio) AS tipo_de_cambio_mensual\n",
    "        FROM econ.tipo_de_cambio\n",
    "        GROUP BY 1\n",
    "    ),\n",
    "\n",
    "    tasa_de_interes_mensual AS (\n",
    "        SELECT \n",
    "            DATE_TRUNC('month', fecha) AS fecha,\n",
    "            AVG(tasa_de_interes) AS tasa_de_interes_mensual\n",
    "        FROM econ.tasa_de_interes\n",
    "        GROUP BY 1\n",
    "    ),\n",
    "\n",
    "    inflacion_mensual AS (\n",
    "        SELECT \n",
    "            DATE_TRUNC('month', fecha) AS fecha,\n",
    "            AVG(inflacion) AS inflacion_mensual\n",
    "        FROM econ.inflacion\n",
    "        GROUP BY 1\n",
    "    )\n",
    "\n",
    "SELECT \n",
    "    tdc.fecha,\n",
    "    tdc.tipo_de_cambio_mensual,\n",
    "    ti.tasa_de_interes_mensual,\n",
    "    inf.inflacion_mensual\n",
    "FROM tipo_de_cambio_mensual tdc\n",
    "LEFT JOIN tasa_de_interes_mensual ti ON tdc.fecha = ti.fecha\n",
    "LEFT JOIN inflacion_mensual inf ON tdc.fecha = inf.fecha\n",
    "ORDER BY tdc.fecha;\n",
    "\n",
    "\"\"\"\n",
    "\n",
    "wr.athena.read_sql_query(\n",
    "    query, \n",
    "    database=\"econ\", \n",
    "    ctas_approach=False, \n",
    "    boto3_session=session\n",
    ")"
   ]
  }
 ],
 "metadata": {
  "kernelspec": {
   "display_name": "arquitectura",
   "language": "python",
   "name": "python3"
  },
  "language_info": {
   "codemirror_mode": {
    "name": "ipython",
    "version": 3
   },
   "file_extension": ".py",
   "mimetype": "text/x-python",
   "name": "python",
   "nbconvert_exporter": "python",
   "pygments_lexer": "ipython3",
   "version": "3.11.11"
  }
 },
 "nbformat": 4,
 "nbformat_minor": 2
}
