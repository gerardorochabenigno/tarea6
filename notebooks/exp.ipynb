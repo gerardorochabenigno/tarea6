{
 "cells": [
  {
   "cell_type": "code",
   "execution_count": 50,
   "metadata": {},
   "outputs": [],
   "source": [
    "import requests\n",
    "import argparse\n",
    "import typing\n",
    "import pandas as pd\n",
    "import yaml\n",
    "import os\n",
    "import numpy as np"
   ]
  },
  {
   "cell_type": "code",
   "execution_count": 29,
   "metadata": {},
   "outputs": [],
   "source": [
    "parent_dir = os.path.abspath(os.path.join(os.getcwd(), \"..\"))"
   ]
  },
  {
   "cell_type": "code",
   "execution_count": 30,
   "metadata": {},
   "outputs": [],
   "source": [
    "\n",
    "SERIE = \"SF43718\"\n",
    "FECHA_INICIO = '2000-01-01'\n",
    "FECHA_FIN = '2025-03-10'\n",
    "\n",
    "with open(os.path.join(parent_dir, \"config/config.yaml\"), \"r\") as file:\n",
    "    config = yaml.safe_load(file)\n",
    "TOKEN_SIE = config['token_sie']"
   ]
  },
  {
   "cell_type": "code",
   "execution_count": 67,
   "metadata": {},
   "outputs": [
    {
     "data": {
      "text/html": [
       "<div>\n",
       "<style scoped>\n",
       "    .dataframe tbody tr th:only-of-type {\n",
       "        vertical-align: middle;\n",
       "    }\n",
       "\n",
       "    .dataframe tbody tr th {\n",
       "        vertical-align: top;\n",
       "    }\n",
       "\n",
       "    .dataframe thead th {\n",
       "        text-align: right;\n",
       "    }\n",
       "</style>\n",
       "<table border=\"1\" class=\"dataframe\">\n",
       "  <thead>\n",
       "    <tr style=\"text-align: right;\">\n",
       "      <th></th>\n",
       "      <th>fecha</th>\n",
       "      <th>tipo_de_cambio</th>\n",
       "    </tr>\n",
       "  </thead>\n",
       "  <tbody>\n",
       "    <tr>\n",
       "      <th>8376</th>\n",
       "      <td>2025-03-11</td>\n",
       "      <td>20.3388</td>\n",
       "    </tr>\n",
       "    <tr>\n",
       "      <th>8377</th>\n",
       "      <td>2025-03-12</td>\n",
       "      <td>20.1828</td>\n",
       "    </tr>\n",
       "    <tr>\n",
       "      <th>8378</th>\n",
       "      <td>2025-03-13</td>\n",
       "      <td>20.0848</td>\n",
       "    </tr>\n",
       "  </tbody>\n",
       "</table>\n",
       "</div>"
      ],
      "text/plain": [
       "          fecha  tipo_de_cambio\n",
       "8376 2025-03-11         20.3388\n",
       "8377 2025-03-12         20.1828\n",
       "8378 2025-03-13         20.0848"
      ]
     },
     "execution_count": 67,
     "metadata": {},
     "output_type": "execute_result"
    }
   ],
   "source": [
    "def series_sie_completa(token:str, serie:str) -> pd.DataFrame:\n",
    "    \"\"\"\n",
    "    Función para obtener series de tiempo de tipo de cambio, tasa de interés e inflación. Información proveniente del Sistema de Información Económica (SIE) de Banco de México.\n",
    "    Args:\n",
    "        token: Token de Banco de México\n",
    "        serie: Identificador de la serie. Solo tres series son permitidas\n",
    "            'tipo_de_cambio':  'SF43718', Tipo de cambio FIX determinado por el Banco de México con base en un promedio de cotizaciones del mercado de cambios al mayoreo para operaciones liquidables el segundo día hábil bancario siguiente.\n",
    "            'tasa_de_interes': 'SF43783', TIIE 28 aplicable en la fecha correspondiente (fecha de publicación en el Diario Oficial de la Federación) y determinada por el Banco de México.\n",
    "            'inflacion':       'SP74833', Variación anual del INPC. El INPC lo construye el INEGI, pero Banco de México también publica esta información en el SIE.\n",
    "    Returns:\n",
    "        pd.Dataframe: pandas dataframe con \n",
    "\n",
    "    \"\"\"\n",
    "    if serie in ['tipo_de_cambio','tasa_de_interes','inflacion']:\n",
    "        idserie = {'tipo_de_cambio':'SF43718', 'tasa_de_interes':'SF43783', 'inflacion':'SP74833'}\n",
    "    else:\n",
    "        raise Exception(\"Solo las series 'SF43718', 'SF43783', 'SP74833' son permitidas.\")\n",
    "\n",
    "    \n",
    "    try:\n",
    "        url = f'https://www.banxico.org.mx/SieAPIRest/service/v1/series/{idserie[serie]}/datos'\n",
    "        # Necesario para realizar la consulta\n",
    "        headers = {\"Bmx-Token\": token}\n",
    "        # Hacemos la llamada a la API\n",
    "        response = requests.get(url, headers=headers)\n",
    "        # Obtenemos el JSON\n",
    "        data = response.json()\n",
    "        # Lista de diccionarios\n",
    "        series = data['bmx']['series'][0]['datos']\n",
    "        # Pasamos a dataframe\n",
    "        df = pd.DataFrame(series)\n",
    "        # Tratamos columna de fecha\n",
    "        df['fecha'] = pd.to_datetime(df['fecha'], format=\"%d/%m/%Y\")\n",
    "        # Tratamos columna de dato\n",
    "        valores_invalidos = ['NA', 'NE', 'No aplica', 'Error', 'N/A', 'nan', 'N/E']\n",
    "        df['dato'] = df['dato'].replace(valores_invalidos, np.nan)\n",
    "        df['dato'] = df['dato'].astype(float)\n",
    "        df = df.rename(columns={'dato':serie})\n",
    "        return df\n",
    "    \n",
    "    except:\n",
    "        print(\"La solicitud no pudo ser procesada\")"
   ]
  },
  {
   "cell_type": "code",
   "execution_count": null,
   "metadata": {},
   "outputs": [],
   "source": []
  }
 ],
 "metadata": {
  "kernelspec": {
   "display_name": "trabajo",
   "language": "python",
   "name": "python3"
  },
  "language_info": {
   "codemirror_mode": {
    "name": "ipython",
    "version": 3
   },
   "file_extension": ".py",
   "mimetype": "text/x-python",
   "name": "python",
   "nbconvert_exporter": "python",
   "pygments_lexer": "ipython3",
   "version": "3.10.16"
  }
 },
 "nbformat": 4,
 "nbformat_minor": 2
}
